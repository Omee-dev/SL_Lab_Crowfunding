{
 "cells": [
  {
   "cell_type": "code",
   "execution_count": 2,
   "metadata": {},
   "outputs": [],
   "source": [
    "\n",
    "# importing the \"tarfile\" module \n",
    "import tarfile \n",
    "file = tarfile.open('./24M2127_lab10.tar.gz') \n",
    "file.extractall() \n",
    "file.close()"
   ]
  },
  {
   "cell_type": "code",
   "execution_count": 4,
   "metadata": {},
   "outputs": [
    {
     "name": "stdout",
     "output_type": "stream",
     "text": [
      "^C\n"
     ]
    }
   ],
   "source": [
    "!python -u trial.py"
   ]
  },
  {
   "cell_type": "code",
   "execution_count": 2,
   "metadata": {},
   "outputs": [
    {
     "name": "stdout",
     "output_type": "stream",
     "text": [
      "Collecting MySQL-python\n",
      "  Downloading MySQL-python-1.2.5.zip (108 kB)\n",
      "     ---------------------------------------- 0.0/108.9 kB ? eta -:--:--\n",
      "     --------------------- ----------------- 61.4/108.9 kB 1.7 MB/s eta 0:00:01\n",
      "     -------------------------------------- 108.9/108.9 kB 2.1 MB/s eta 0:00:00\n",
      "  Preparing metadata (setup.py): started\n",
      "  Preparing metadata (setup.py): finished with status 'done'\n",
      "Building wheels for collected packages: MySQL-python\n",
      "  Building wheel for MySQL-python (setup.py): started\n",
      "  Building wheel for MySQL-python (setup.py): finished with status 'error'\n",
      "  Running setup.py clean for MySQL-python\n",
      "Failed to build MySQL-python\n",
      "Installing collected packages: MySQL-python\n",
      "  Running setup.py install for MySQL-python: started\n",
      "  Running setup.py install for MySQL-python: finished with status 'error'\n"
     ]
    },
    {
     "name": "stderr",
     "output_type": "stream",
     "text": [
      "  error: subprocess-exited-with-error\n",
      "  \n",
      "  × python setup.py bdist_wheel did not run successfully.\n",
      "  │ exit code: 1\n",
      "  ╰─> [33 lines of output]\n",
      "      c:\\Users\\omhot\\miniconda3\\envs\\tf\\lib\\site-packages\\setuptools\\dist.py:788: UserWarning: Usage of dash-separated 'distribution-name' will not be supported in future versions. Please use the underscore name 'distribution_name' instead\n",
      "        warnings.warn(\n",
      "      c:\\Users\\omhot\\miniconda3\\envs\\tf\\lib\\site-packages\\setuptools\\dist.py:788: UserWarning: Usage of dash-separated 'build-requires' will not be supported in future versions. Please use the underscore name 'build_requires' instead\n",
      "        warnings.warn(\n",
      "      running bdist_wheel\n",
      "      running build\n",
      "      running build_py\n",
      "      creating build\n",
      "      creating build\\lib.win-amd64-cpython-310\n",
      "      copying _mysql_exceptions.py -> build\\lib.win-amd64-cpython-310\n",
      "      creating build\\lib.win-amd64-cpython-310\\MySQLdb\n",
      "      copying MySQLdb\\__init__.py -> build\\lib.win-amd64-cpython-310\\MySQLdb\n",
      "      copying MySQLdb\\converters.py -> build\\lib.win-amd64-cpython-310\\MySQLdb\n",
      "      copying MySQLdb\\connections.py -> build\\lib.win-amd64-cpython-310\\MySQLdb\n",
      "      copying MySQLdb\\cursors.py -> build\\lib.win-amd64-cpython-310\\MySQLdb\n",
      "      copying MySQLdb\\release.py -> build\\lib.win-amd64-cpython-310\\MySQLdb\n",
      "      copying MySQLdb\\times.py -> build\\lib.win-amd64-cpython-310\\MySQLdb\n",
      "      creating build\\lib.win-amd64-cpython-310\\MySQLdb\\constants\n",
      "      copying MySQLdb\\constants\\__init__.py -> build\\lib.win-amd64-cpython-310\\MySQLdb\\constants\n",
      "      copying MySQLdb\\constants\\CR.py -> build\\lib.win-amd64-cpython-310\\MySQLdb\\constants\n",
      "      copying MySQLdb\\constants\\FIELD_TYPE.py -> build\\lib.win-amd64-cpython-310\\MySQLdb\\constants\n",
      "      copying MySQLdb\\constants\\ER.py -> build\\lib.win-amd64-cpython-310\\MySQLdb\\constants\n",
      "      copying MySQLdb\\constants\\FLAG.py -> build\\lib.win-amd64-cpython-310\\MySQLdb\\constants\n",
      "      copying MySQLdb\\constants\\REFRESH.py -> build\\lib.win-amd64-cpython-310\\MySQLdb\\constants\n",
      "      copying MySQLdb\\constants\\CLIENT.py -> build\\lib.win-amd64-cpython-310\\MySQLdb\\constants\n",
      "      running build_ext\n",
      "      building '_mysql' extension\n",
      "      creating build\\temp.win-amd64-cpython-310\n",
      "      creating build\\temp.win-amd64-cpython-310\\Release\n",
      "      \"E:\\Visual Studios\\VC\\Tools\\MSVC\\14.35.32215\\bin\\HostX86\\x64\\cl.exe\" /c /nologo /O2 /W3 /GL /DNDEBUG /MD -Dversion_info=(1,2,5,'final',1) -D__version__=1.2.5 \"-IC:\\Program Files (x86)\\MySQL\\MySQL Connector C 6.0.2\\include\" -Ic:\\Users\\omhot\\miniconda3\\envs\\tf\\include -Ic:\\Users\\omhot\\miniconda3\\envs\\tf\\Include \"-IE:\\Visual Studios\\VC\\Tools\\MSVC\\14.35.32215\\include\" \"-IE:\\Visual Studios\\VC\\Auxiliary\\VS\\include\" \"-IC:\\Program Files (x86)\\Windows Kits\\10\\include\\10.0.22000.0\\ucrt\" \"-IC:\\Program Files (x86)\\Windows Kits\\10\\\\include\\10.0.22000.0\\\\um\" \"-IC:\\Program Files (x86)\\Windows Kits\\10\\\\include\\10.0.22000.0\\\\shared\" \"-IC:\\Program Files (x86)\\Windows Kits\\10\\\\include\\10.0.22000.0\\\\winrt\" \"-IC:\\Program Files (x86)\\Windows Kits\\10\\\\include\\10.0.22000.0\\\\cppwinrt\" \"-IC:\\Program Files (x86)\\Windows Kits\\NETFXSDK\\4.8\\include\\um\" /Tc_mysql.c /Fobuild\\temp.win-amd64-cpython-310\\Release\\_mysql.obj /Zl\n",
      "      _mysql.c\n",
      "      _mysql.c(42): fatal error C1083: Cannot open include file: 'config-win.h': No such file or directory\n",
      "      error: command 'E:\\\\Visual Studios\\\\VC\\\\Tools\\\\MSVC\\\\14.35.32215\\\\bin\\\\HostX86\\\\x64\\\\cl.exe' failed with exit code 2\n",
      "      [end of output]\n",
      "  \n",
      "  note: This error originates from a subprocess, and is likely not a problem with pip.\n",
      "  ERROR: Failed building wheel for MySQL-python\n",
      "  error: subprocess-exited-with-error\n",
      "  \n",
      "  × Running setup.py install for MySQL-python did not run successfully.\n",
      "  │ exit code: 1\n",
      "  ╰─> [35 lines of output]\n",
      "      c:\\Users\\omhot\\miniconda3\\envs\\tf\\lib\\site-packages\\setuptools\\dist.py:788: UserWarning: Usage of dash-separated 'distribution-name' will not be supported in future versions. Please use the underscore name 'distribution_name' instead\n",
      "        warnings.warn(\n",
      "      c:\\Users\\omhot\\miniconda3\\envs\\tf\\lib\\site-packages\\setuptools\\dist.py:788: UserWarning: Usage of dash-separated 'build-requires' will not be supported in future versions. Please use the underscore name 'build_requires' instead\n",
      "        warnings.warn(\n",
      "      running install\n",
      "      c:\\Users\\omhot\\miniconda3\\envs\\tf\\lib\\site-packages\\setuptools\\command\\install.py:34: SetuptoolsDeprecationWarning: setup.py install is deprecated. Use build and pip and other standards-based tools.\n",
      "        warnings.warn(\n",
      "      running build\n",
      "      running build_py\n",
      "      creating build\n",
      "      creating build\\lib.win-amd64-cpython-310\n",
      "      copying _mysql_exceptions.py -> build\\lib.win-amd64-cpython-310\n",
      "      creating build\\lib.win-amd64-cpython-310\\MySQLdb\n",
      "      copying MySQLdb\\__init__.py -> build\\lib.win-amd64-cpython-310\\MySQLdb\n",
      "      copying MySQLdb\\converters.py -> build\\lib.win-amd64-cpython-310\\MySQLdb\n",
      "      copying MySQLdb\\connections.py -> build\\lib.win-amd64-cpython-310\\MySQLdb\n",
      "      copying MySQLdb\\cursors.py -> build\\lib.win-amd64-cpython-310\\MySQLdb\n",
      "      copying MySQLdb\\release.py -> build\\lib.win-amd64-cpython-310\\MySQLdb\n",
      "      copying MySQLdb\\times.py -> build\\lib.win-amd64-cpython-310\\MySQLdb\n",
      "      creating build\\lib.win-amd64-cpython-310\\MySQLdb\\constants\n",
      "      copying MySQLdb\\constants\\__init__.py -> build\\lib.win-amd64-cpython-310\\MySQLdb\\constants\n",
      "      copying MySQLdb\\constants\\CR.py -> build\\lib.win-amd64-cpython-310\\MySQLdb\\constants\n",
      "      copying MySQLdb\\constants\\FIELD_TYPE.py -> build\\lib.win-amd64-cpython-310\\MySQLdb\\constants\n",
      "      copying MySQLdb\\constants\\ER.py -> build\\lib.win-amd64-cpython-310\\MySQLdb\\constants\n",
      "      copying MySQLdb\\constants\\FLAG.py -> build\\lib.win-amd64-cpython-310\\MySQLdb\\constants\n",
      "      copying MySQLdb\\constants\\REFRESH.py -> build\\lib.win-amd64-cpython-310\\MySQLdb\\constants\n",
      "      copying MySQLdb\\constants\\CLIENT.py -> build\\lib.win-amd64-cpython-310\\MySQLdb\\constants\n",
      "      running build_ext\n",
      "      building '_mysql' extension\n",
      "      creating build\\temp.win-amd64-cpython-310\n",
      "      creating build\\temp.win-amd64-cpython-310\\Release\n",
      "      \"E:\\Visual Studios\\VC\\Tools\\MSVC\\14.35.32215\\bin\\HostX86\\x64\\cl.exe\" /c /nologo /O2 /W3 /GL /DNDEBUG /MD -Dversion_info=(1,2,5,'final',1) -D__version__=1.2.5 \"-IC:\\Program Files (x86)\\MySQL\\MySQL Connector C 6.0.2\\include\" -Ic:\\Users\\omhot\\miniconda3\\envs\\tf\\include -Ic:\\Users\\omhot\\miniconda3\\envs\\tf\\Include \"-IE:\\Visual Studios\\VC\\Tools\\MSVC\\14.35.32215\\include\" \"-IE:\\Visual Studios\\VC\\Auxiliary\\VS\\include\" \"-IC:\\Program Files (x86)\\Windows Kits\\10\\include\\10.0.22000.0\\ucrt\" \"-IC:\\Program Files (x86)\\Windows Kits\\10\\\\include\\10.0.22000.0\\\\um\" \"-IC:\\Program Files (x86)\\Windows Kits\\10\\\\include\\10.0.22000.0\\\\shared\" \"-IC:\\Program Files (x86)\\Windows Kits\\10\\\\include\\10.0.22000.0\\\\winrt\" \"-IC:\\Program Files (x86)\\Windows Kits\\10\\\\include\\10.0.22000.0\\\\cppwinrt\" \"-IC:\\Program Files (x86)\\Windows Kits\\NETFXSDK\\4.8\\include\\um\" /Tc_mysql.c /Fobuild\\temp.win-amd64-cpython-310\\Release\\_mysql.obj /Zl\n",
      "      _mysql.c\n",
      "      _mysql.c(42): fatal error C1083: Cannot open include file: 'config-win.h': No such file or directory\n",
      "      error: command 'E:\\\\Visual Studios\\\\VC\\\\Tools\\\\MSVC\\\\14.35.32215\\\\bin\\\\HostX86\\\\x64\\\\cl.exe' failed with exit code 2\n",
      "      [end of output]\n",
      "  \n",
      "  note: This error originates from a subprocess, and is likely not a problem with pip.\n",
      "error: legacy-install-failure\n",
      "\n",
      "× Encountered error while trying to install package.\n",
      "╰─> MySQL-python\n",
      "\n",
      "note: This is an issue with the package mentioned above, not pip.\n",
      "hint: See above for output from the failure.\n"
     ]
    }
   ],
   "source": [
    "import sys\n",
    "!{sys.executable} -m pip install MySQL-python"
   ]
  },
  {
   "cell_type": "code",
   "execution_count": 1,
   "metadata": {},
   "outputs": [],
   "source": [
    "import pymongo"
   ]
  },
  {
   "cell_type": "code",
   "execution_count": 2,
   "metadata": {},
   "outputs": [],
   "source": [
    "myclient = pymongo.MongoClient(\"mongodb://localhost:27017/\")\n",
    "\n",
    "mydb = myclient[\"mydatabase\"]"
   ]
  },
  {
   "cell_type": "code",
   "execution_count": 3,
   "metadata": {},
   "outputs": [
    {
     "name": "stdout",
     "output_type": "stream",
     "text": [
      "['admin', 'config', 'local']\n"
     ]
    }
   ],
   "source": [
    "print(myclient.list_database_names())\n"
   ]
  },
  {
   "cell_type": "code",
   "execution_count": 4,
   "metadata": {},
   "outputs": [],
   "source": [
    "dblist = myclient.list_database_names()\n",
    "if \"mydatabase\" in dblist:\n",
    "  print(\"The database exists.\")"
   ]
  },
  {
   "cell_type": "code",
   "execution_count": 13,
   "metadata": {},
   "outputs": [],
   "source": [
    "mydb = myclient[\"Crowdfund\"]\n",
    "\n",
    "mycol = mydb[\"Campaigns\"]"
   ]
  },
  {
   "cell_type": "code",
   "execution_count": 6,
   "metadata": {},
   "outputs": [
    {
     "name": "stdout",
     "output_type": "stream",
     "text": [
      "[]\n"
     ]
    }
   ],
   "source": [
    "print(mydb.list_collection_names())\n"
   ]
  },
  {
   "cell_type": "code",
   "execution_count": 9,
   "metadata": {},
   "outputs": [
    {
     "name": "stdout",
     "output_type": "stream",
     "text": [
      "The collection exists.\n"
     ]
    }
   ],
   "source": [
    "collist = mydb.list_collection_names()\n",
    "if \"customers\" in collist:\n",
    "  print(\"The collection exists.\")"
   ]
  },
  {
   "cell_type": "code",
   "execution_count": 10,
   "metadata": {},
   "outputs": [],
   "source": [
    "mydict = { \"name\": \"John\", \"address\": \"Highway 37\" }\n",
    "\n",
    "x = mycol.insert_one(mydict)"
   ]
  },
  {
   "cell_type": "code",
   "execution_count": 20,
   "metadata": {},
   "outputs": [],
   "source": [
    "campaign = [\n",
    "    {\n",
    "        '_id': 1,\n",
    "        'title': 'Help fund my new startup',\n",
    "        'description': 'I need funding to get my business off the ground. Any support would be greatly appreciated!',\n",
    "        'goal': 50000,\n",
    "        'raised': 12345,\n",
    "        'image': 'https://images.unsplash.com/photo-1517245386807-bb43f82c33c4?q=80&w=2070&auto=format&fit=crop&ixlib=rb-4.0.3&ixid=M3wxMjA3fDB8MHxwaG90by1wYWdlfHx8fGVufDB8fHx8fA%3D%3D'\n",
    "    },\n",
    "    {\n",
    "        '_id': 2,\n",
    "        'title': 'Medical bills for my sick dog',\n",
    "        'description': 'My dog needs expensive surgery to recover. Please help me cover the costs.',\n",
    "        'goal': 5000,\n",
    "        'raised': 2500,\n",
    "        'image': 'https://plus.unsplash.com/premium_photo-1666777247416-ee7a95235559?q=80&w=1887&auto=format&fit=crop&ixlib=rb-4.0.3&ixid=M3wxMjA3fDB8MHxwaG90by1wYWdlfHx8fGVufDB8fHx8fA%3D%3D'\n",
    "    },\n",
    "    {\n",
    "        '_id': 3,\n",
    "        'title': 'Send me to coding bootcamp',\n",
    "        'description': 'I want to learn to code but can\\'t afford the tuition. Your donation would change my life.',\n",
    "        'goal': 10000,\n",
    "        'raised': 7500,\n",
    "        'image': 'https://plus.unsplash.com/premium_photo-1661594817042-6736b77038cc?q=80&w=1932&auto=format&fit=crop&ixlib=rb-4.0.3&ixid=M3wxMjA3fDB8MHxwaG90by1wYWdlfHx8fGVufDB8fHx8fA%3D%3D'\n",
    "    },\n",
    "    {\n",
    "        '_id': 4,\n",
    "        'title': 'Fund my community project',\n",
    "        'description': 'I\\'m starting a project to help the less fortunate in my city. Please support me.',\n",
    "        'goal': 20000,\n",
    "        'raised': 15000,\n",
    "        'image': 'https://plus.unsplash.com/premium_photo-1682092618317-9b50d60e6e0d?q=80&w=2070&auto=format&fit=crop&ixlib=rb-4.0.3&ixid=M3wxMjA3fDB8MHxwaG90by1wYWdlfHx8fGVufDB8fHx8fA%3D%3D'\n",
    "    },\n",
    "    {\n",
    "        '_id': 5,\n",
    "        'title': 'Fund my community project',\n",
    "        'description': 'I\\'m starting a project to help the less fortunate in my city. Please support me.',\n",
    "        'goal': 20000,\n",
    "        'raised': 15000,\n",
    "        'image': 'https://plus.unsplash.com/premium_photo-1682092618317-9b50d60e6e0d?q=80&w=2070&auto=format&fit=crop&ixlib=rb-4.0.3&ixid=M3wxMjA3fDB8MHxwaG90by1wYWdlfHx8fGVufDB8fHx8fA%3D%3D'\n",
    "    },\n",
    "    {\n",
    "        '_id': 6,\n",
    "        'title': 'Fund my community project',\n",
    "        'description': 'I\\'m starting a project to help the less fortunate in my city. Please support me.',\n",
    "        'goal': 20000,\n",
    "        'raised': 15000,\n",
    "        'image': 'https://plus.unsplash.com/premium_photo-1682092618317-9b50d60e6e0d?q=80&w=2070&auto=format&fit=crop&ixlib=rb-4.0.3&ixid=M3wxMjA3fDB8MHxwaG90by1wYWdlfHx8fGVufDB8fHx8fA%3D%3D'\n",
    "    },\n",
    "    {\n",
    "        '_id': 7,\n",
    "        'title': 'Fund my community project',\n",
    "        'description': 'I\\'m starting a project to help the less fortunate in my city. Please support me.',\n",
    "        'goal': 20000,\n",
    "        'raised': 15000,\n",
    "        'image': 'https://plus.unsplash.com/premium_photo-1682092618317-9b50d60e6e0d?q=80&w=2070&auto=format&fit=crop&ixlib=rb-4.0.3&ixid=M3wxMjA3fDB8MHxwaG90by1wYWdlfHx8fGVufDB8fHx8fA%3D%3D'\n",
    "    },\n",
    "    {\n",
    "        '_id': 8,\n",
    "        'title': 'Fund my community project',\n",
    "        'description': 'I\\'m starting a project to help the less fortunate in my city. Please support me.',\n",
    "        'goal': 20000,\n",
    "        'raised': 15000,\n",
    "        'image': 'https://plus.unsplash.com/premium_photo-1682092618317-9b50d60e6e0d?q=80&w=2070&auto=format&fit=crop&ixlib=rb-4.0.3&ixid=M3wxMjA3fDB8MHxwaG90by1wYWdlfHx8fGVufDB8fHx8fA%3D%3D'\n",
    "    },\n",
    "    {\n",
    "        '_id': 9,\n",
    "        'title': 'Fund my community project',\n",
    "        'description': 'I\\'m starting a project to help the less fortunate in my city. Please support me.',\n",
    "        'goal': 20000,\n",
    "        'raised': 15000,\n",
    "        'image': 'https://plus.unsplash.com/premium_photo-1682092618317-9b50d60e6e0d?q=80&w=2070&auto=format&fit=crop&ixlib=rb-4.0.3&ixid=M3wxMjA3fDB8MHxwaG90by1wYWdlfHx8fGVufDB8fHx8fA%3D%3D'\n",
    "    }]"
   ]
  },
  {
   "cell_type": "code",
   "execution_count": 14,
   "metadata": {},
   "outputs": [],
   "source": [
    "x = mycol.insert_many(campaign)"
   ]
  },
  {
   "cell_type": "code",
   "execution_count": 16,
   "metadata": {},
   "outputs": [
    {
     "name": "stdout",
     "output_type": "stream",
     "text": [
      "9\n"
     ]
    }
   ],
   "source": [
    "print(x.inserted_ids.__len__())\n"
   ]
  },
  {
   "cell_type": "code",
   "execution_count": 31,
   "metadata": {},
   "outputs": [
    {
     "name": "stdout",
     "output_type": "stream",
     "text": [
      "{'_id': 1, 'title': 'Help fund my new startup', 'description': 'I need funding to get my business off the ground. Any support would be greatly appreciated!', 'goal': 50000, 'raised': 12345, 'image': 'https://images.unsplash.com/photo-1517245386807-bb43f82c33c4?q=80&w=2070&auto=format&fit=crop&ixlib=rb-4.0.3&ixid=M3wxMjA3fDB8MHxwaG90by1wYWdlfHx8fGVufDB8fHx8fA%3D%3D'}\n",
      "{'_id': 2, 'title': 'Medical bills for my sick dog', 'description': 'My dog needs expensive surgery to recover. Please help me cover the costs.', 'goal': 5000, 'raised': 2500, 'image': 'https://plus.unsplash.com/premium_photo-1666777247416-ee7a95235559?q=80&w=1887&auto=format&fit=crop&ixlib=rb-4.0.3&ixid=M3wxMjA3fDB8MHxwaG90by1wYWdlfHx8fGVufDB8fHx8fA%3D%3D'}\n",
      "{'_id': 3, 'title': 'Send me to coding bootcamp', 'description': \"I want to learn to code but can't afford the tuition. Your donation would change my life.\", 'goal': 10000, 'raised': 7500, 'image': 'https://plus.unsplash.com/premium_photo-1661594817042-6736b77038cc?q=80&w=1932&auto=format&fit=crop&ixlib=rb-4.0.3&ixid=M3wxMjA3fDB8MHxwaG90by1wYWdlfHx8fGVufDB8fHx8fA%3D%3D'}\n",
      "{'_id': 4, 'title': 'Fund my community project', 'description': \"I'm starting a project to help the less fortunate in my city. Please support me.\", 'goal': 20000, 'raised': 15000, 'image': 'https://plus.unsplash.com/premium_photo-1682092618317-9b50d60e6e0d?q=80&w=2070&auto=format&fit=crop&ixlib=rb-4.0.3&ixid=M3wxMjA3fDB8MHxwaG90by1wYWdlfHx8fGVufDB8fHx8fA%3D%3D'}\n",
      "{'_id': 5, 'title': 'Fund my community project', 'description': \"I'm starting a project to help the less fortunate in my city. Please support me.\", 'goal': 20000, 'raised': 15000, 'image': 'https://plus.unsplash.com/premium_photo-1682092618317-9b50d60e6e0d?q=80&w=2070&auto=format&fit=crop&ixlib=rb-4.0.3&ixid=M3wxMjA3fDB8MHxwaG90by1wYWdlfHx8fGVufDB8fHx8fA%3D%3D'}\n",
      "{'_id': 6, 'title': 'Fund my community project', 'description': \"I'm starting a project to help the less fortunate in my city. Please support me.\", 'goal': 20000, 'raised': 15000, 'image': 'https://plus.unsplash.com/premium_photo-1682092618317-9b50d60e6e0d?q=80&w=2070&auto=format&fit=crop&ixlib=rb-4.0.3&ixid=M3wxMjA3fDB8MHxwaG90by1wYWdlfHx8fGVufDB8fHx8fA%3D%3D'}\n",
      "{'_id': 7, 'title': 'Fund my community project', 'description': \"I'm starting a project to help the less fortunate in my city. Please support me.\", 'goal': 20000, 'raised': 15000, 'image': 'https://plus.unsplash.com/premium_photo-1682092618317-9b50d60e6e0d?q=80&w=2070&auto=format&fit=crop&ixlib=rb-4.0.3&ixid=M3wxMjA3fDB8MHxwaG90by1wYWdlfHx8fGVufDB8fHx8fA%3D%3D'}\n",
      "{'_id': 8, 'title': 'Fund my community project', 'description': \"I'm starting a project to help the less fortunate in my city. Please support me.\", 'goal': 20000, 'raised': 15000, 'image': 'https://plus.unsplash.com/premium_photo-1682092618317-9b50d60e6e0d?q=80&w=2070&auto=format&fit=crop&ixlib=rb-4.0.3&ixid=M3wxMjA3fDB8MHxwaG90by1wYWdlfHx8fGVufDB8fHx8fA%3D%3D'}\n",
      "{'_id': 9, 'title': 'Fund my community project', 'description': \"I'm starting a project to help the less fortunate in my city. Please support me.\", 'goal': 20000, 'raised': 15000, 'image': 'https://plus.unsplash.com/premium_photo-1682092618317-9b50d60e6e0d?q=80&w=2070&auto=format&fit=crop&ixlib=rb-4.0.3&ixid=M3wxMjA3fDB8MHxwaG90by1wYWdlfHx8fGVufDB8fHx8fA%3D%3D'}\n"
     ]
    }
   ],
   "source": [
    "for x in mycol.find():\n",
    "  print(x)"
   ]
  },
  {
   "cell_type": "code",
   "execution_count": 39,
   "metadata": {},
   "outputs": [
    {
     "data": {
      "text/plain": [
       "[{'_id': 1,\n",
       "  'title': 'Help fund my new startup',\n",
       "  'description': 'I need funding to get my business off the ground. Any support would be greatly appreciated!',\n",
       "  'goal': 50000,\n",
       "  'raised': 12345,\n",
       "  'image': 'https://images.unsplash.com/photo-1517245386807-bb43f82c33c4?q=80&w=2070&auto=format&fit=crop&ixlib=rb-4.0.3&ixid=M3wxMjA3fDB8MHxwaG90by1wYWdlfHx8fGVufDB8fHx8fA%3D%3D'},\n",
       " {'_id': 2,\n",
       "  'title': 'Medical bills for my sick dog',\n",
       "  'description': 'My dog needs expensive surgery to recover. Please help me cover the costs.',\n",
       "  'goal': 5000,\n",
       "  'raised': 2500,\n",
       "  'image': 'https://plus.unsplash.com/premium_photo-1666777247416-ee7a95235559?q=80&w=1887&auto=format&fit=crop&ixlib=rb-4.0.3&ixid=M3wxMjA3fDB8MHxwaG90by1wYWdlfHx8fGVufDB8fHx8fA%3D%3D'},\n",
       " {'_id': 3,\n",
       "  'title': 'Send me to coding bootcamp',\n",
       "  'description': \"I want to learn to code but can't afford the tuition. Your donation would change my life.\",\n",
       "  'goal': 10000,\n",
       "  'raised': 7500,\n",
       "  'image': 'https://plus.unsplash.com/premium_photo-1661594817042-6736b77038cc?q=80&w=1932&auto=format&fit=crop&ixlib=rb-4.0.3&ixid=M3wxMjA3fDB8MHxwaG90by1wYWdlfHx8fGVufDB8fHx8fA%3D%3D'},\n",
       " {'_id': 4,\n",
       "  'title': 'Fund my community project',\n",
       "  'description': \"I'm starting a project to help the less fortunate in my city. Please support me.\",\n",
       "  'goal': 20000,\n",
       "  'raised': 15000,\n",
       "  'image': 'https://plus.unsplash.com/premium_photo-1682092618317-9b50d60e6e0d?q=80&w=2070&auto=format&fit=crop&ixlib=rb-4.0.3&ixid=M3wxMjA3fDB8MHxwaG90by1wYWdlfHx8fGVufDB8fHx8fA%3D%3D'},\n",
       " {'_id': 5,\n",
       "  'title': 'Fund my community project',\n",
       "  'description': \"I'm starting a project to help the less fortunate in my city. Please support me.\",\n",
       "  'goal': 20000,\n",
       "  'raised': 15000,\n",
       "  'image': 'https://plus.unsplash.com/premium_photo-1682092618317-9b50d60e6e0d?q=80&w=2070&auto=format&fit=crop&ixlib=rb-4.0.3&ixid=M3wxMjA3fDB8MHxwaG90by1wYWdlfHx8fGVufDB8fHx8fA%3D%3D'},\n",
       " {'_id': 6,\n",
       "  'title': 'Fund my community project',\n",
       "  'description': \"I'm starting a project to help the less fortunate in my city. Please support me.\",\n",
       "  'goal': 20000,\n",
       "  'raised': 15000,\n",
       "  'image': 'https://plus.unsplash.com/premium_photo-1682092618317-9b50d60e6e0d?q=80&w=2070&auto=format&fit=crop&ixlib=rb-4.0.3&ixid=M3wxMjA3fDB8MHxwaG90by1wYWdlfHx8fGVufDB8fHx8fA%3D%3D'},\n",
       " {'_id': 7,\n",
       "  'title': 'Fund my community project',\n",
       "  'description': \"I'm starting a project to help the less fortunate in my city. Please support me.\",\n",
       "  'goal': 20000,\n",
       "  'raised': 15000,\n",
       "  'image': 'https://plus.unsplash.com/premium_photo-1682092618317-9b50d60e6e0d?q=80&w=2070&auto=format&fit=crop&ixlib=rb-4.0.3&ixid=M3wxMjA3fDB8MHxwaG90by1wYWdlfHx8fGVufDB8fHx8fA%3D%3D'},\n",
       " {'_id': 8,\n",
       "  'title': 'Fund my community project',\n",
       "  'description': \"I'm starting a project to help the less fortunate in my city. Please support me.\",\n",
       "  'goal': 20000,\n",
       "  'raised': 15000,\n",
       "  'image': 'https://plus.unsplash.com/premium_photo-1682092618317-9b50d60e6e0d?q=80&w=2070&auto=format&fit=crop&ixlib=rb-4.0.3&ixid=M3wxMjA3fDB8MHxwaG90by1wYWdlfHx8fGVufDB8fHx8fA%3D%3D'},\n",
       " {'_id': 9,\n",
       "  'title': 'Fund my community project',\n",
       "  'description': \"I'm starting a project to help the less fortunate in my city. Please support me.\",\n",
       "  'goal': 20000,\n",
       "  'raised': 15000,\n",
       "  'image': 'https://plus.unsplash.com/premium_photo-1682092618317-9b50d60e6e0d?q=80&w=2070&auto=format&fit=crop&ixlib=rb-4.0.3&ixid=M3wxMjA3fDB8MHxwaG90by1wYWdlfHx8fGVufDB8fHx8fA%3D%3D'}]"
      ]
     },
     "execution_count": 39,
     "metadata": {},
     "output_type": "execute_result"
    }
   ],
   "source": [
    "list(mycol.find())"
   ]
  },
  {
   "cell_type": "code",
   "execution_count": 19,
   "metadata": {},
   "outputs": [],
   "source": [
    "mycol.drop()"
   ]
  },
  {
   "cell_type": "code",
   "execution_count": 21,
   "metadata": {},
   "outputs": [],
   "source": [
    "mycol= mydb['Campaigns']"
   ]
  },
  {
   "cell_type": "code",
   "execution_count": 22,
   "metadata": {},
   "outputs": [
    {
     "data": {
      "text/plain": [
       "InsertManyResult([1, 2, 3, 4, 5, 6, 7, 8, 9], acknowledged=True)"
      ]
     },
     "execution_count": 22,
     "metadata": {},
     "output_type": "execute_result"
    }
   ],
   "source": [
    "mycol.insert_many(campaign)"
   ]
  },
  {
   "cell_type": "code",
   "execution_count": 30,
   "metadata": {},
   "outputs": [],
   "source": [
    "for x in mycol.find({'id_':1}):\n",
    "    print(x)"
   ]
  },
  {
   "cell_type": "code",
   "execution_count": null,
   "metadata": {},
   "outputs": [],
   "source": []
  }
 ],
 "metadata": {
  "kernelspec": {
   "display_name": "tf",
   "language": "python",
   "name": "python3"
  },
  "language_info": {
   "codemirror_mode": {
    "name": "ipython",
    "version": 3
   },
   "file_extension": ".py",
   "mimetype": "text/x-python",
   "name": "python",
   "nbconvert_exporter": "python",
   "pygments_lexer": "ipython3",
   "version": "3.10.10"
  }
 },
 "nbformat": 4,
 "nbformat_minor": 2
}
